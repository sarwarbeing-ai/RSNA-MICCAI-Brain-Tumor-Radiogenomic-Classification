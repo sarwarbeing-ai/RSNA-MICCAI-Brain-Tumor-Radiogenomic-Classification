{
 "cells": [
  {
   "cell_type": "code",
   "execution_count": 1,
   "id": "b55f8532",
   "metadata": {
    "_cell_guid": "b1076dfc-b9ad-4769-8c92-a6c4dae69d19",
    "_uuid": "8f2839f25d086af736a60e9eeb907d3b93b6e0e5",
    "execution": {
     "iopub.execute_input": "2021-10-03T12:15:43.124046Z",
     "iopub.status.busy": "2021-10-03T12:15:43.024104Z",
     "iopub.status.idle": "2021-10-03T12:15:48.025285Z",
     "shell.execute_reply": "2021-10-03T12:15:48.024583Z",
     "shell.execute_reply.started": "2021-10-03T12:02:07.580521Z"
    },
    "papermill": {
     "duration": 5.054208,
     "end_time": "2021-10-03T12:15:48.025493",
     "exception": false,
     "start_time": "2021-10-03T12:15:42.971285",
     "status": "completed"
    },
    "tags": []
   },
   "outputs": [
    {
     "name": "stderr",
     "output_type": "stream",
     "text": [
      "2021-10-03 12:15:43.924763: I tensorflow/stream_executor/platform/default/dso_loader.cc:49] Successfully opened dynamic library libcudart.so.11.0\n"
     ]
    },
    {
     "name": "stdout",
     "output_type": "stream",
     "text": [
      "env: WANDB_DISABLED=True\n"
     ]
    }
   ],
   "source": [
    "import os\n",
    "import sys\n",
    "import cv2\n",
    "import numpy as np\n",
    "import pandas as pd\n",
    "import pydicom as pdcm\n",
    "import matplotlib.pyplot as plt\n",
    "import tensorflow as tf\n",
    "import random\n",
    "from tqdm import tqdm\n",
    "from sklearn.model_selection import train_test_split\n",
    "from scipy import ndimage\n",
    "\n",
    "%env WANDB_DISABLED=True"
   ]
  },
  {
   "cell_type": "code",
   "execution_count": 2,
   "id": "3da91421",
   "metadata": {
    "execution": {
     "iopub.execute_input": "2021-10-03T12:15:48.087474Z",
     "iopub.status.busy": "2021-10-03T12:15:48.086864Z",
     "iopub.status.idle": "2021-10-03T12:15:48.098372Z",
     "shell.execute_reply": "2021-10-03T12:15:48.097973Z",
     "shell.execute_reply.started": "2021-10-03T12:02:13.108976Z"
    },
    "papermill": {
     "duration": 0.043126,
     "end_time": "2021-10-03T12:15:48.098518",
     "exception": false,
     "start_time": "2021-10-03T12:15:48.055392",
     "status": "completed"
    },
    "tags": []
   },
   "outputs": [],
   "source": [
    "train_labels=pd.read_csv('../input/rsna-miccai-brain-tumor-radiogenomic-classification/train_labels.csv')\n",
    "model_weights='../input/brain-tumor-3d-weights/Brain_3d_cls_FLAIR.h5'"
   ]
  },
  {
   "cell_type": "code",
   "execution_count": 3,
   "id": "e96c9a67",
   "metadata": {
    "execution": {
     "iopub.execute_input": "2021-10-03T12:15:48.163078Z",
     "iopub.status.busy": "2021-10-03T12:15:48.162388Z",
     "iopub.status.idle": "2021-10-03T12:15:48.175629Z",
     "shell.execute_reply": "2021-10-03T12:15:48.176035Z",
     "shell.execute_reply.started": "2021-10-03T12:02:13.124516Z"
    },
    "papermill": {
     "duration": 0.050149,
     "end_time": "2021-10-03T12:15:48.176156",
     "exception": false,
     "start_time": "2021-10-03T12:15:48.126007",
     "status": "completed"
    },
    "tags": []
   },
   "outputs": [
    {
     "data": {
      "text/html": [
       "<div>\n",
       "<style scoped>\n",
       "    .dataframe tbody tr th:only-of-type {\n",
       "        vertical-align: middle;\n",
       "    }\n",
       "\n",
       "    .dataframe tbody tr th {\n",
       "        vertical-align: top;\n",
       "    }\n",
       "\n",
       "    .dataframe thead th {\n",
       "        text-align: right;\n",
       "    }\n",
       "</style>\n",
       "<table border=\"1\" class=\"dataframe\">\n",
       "  <thead>\n",
       "    <tr style=\"text-align: right;\">\n",
       "      <th></th>\n",
       "      <th>BraTS21ID</th>\n",
       "      <th>MGMT_value</th>\n",
       "    </tr>\n",
       "  </thead>\n",
       "  <tbody>\n",
       "    <tr>\n",
       "      <th>0</th>\n",
       "      <td>0</td>\n",
       "      <td>1</td>\n",
       "    </tr>\n",
       "    <tr>\n",
       "      <th>1</th>\n",
       "      <td>2</td>\n",
       "      <td>1</td>\n",
       "    </tr>\n",
       "    <tr>\n",
       "      <th>2</th>\n",
       "      <td>3</td>\n",
       "      <td>0</td>\n",
       "    </tr>\n",
       "    <tr>\n",
       "      <th>3</th>\n",
       "      <td>5</td>\n",
       "      <td>1</td>\n",
       "    </tr>\n",
       "    <tr>\n",
       "      <th>4</th>\n",
       "      <td>6</td>\n",
       "      <td>1</td>\n",
       "    </tr>\n",
       "    <tr>\n",
       "      <th>5</th>\n",
       "      <td>8</td>\n",
       "      <td>1</td>\n",
       "    </tr>\n",
       "    <tr>\n",
       "      <th>6</th>\n",
       "      <td>9</td>\n",
       "      <td>0</td>\n",
       "    </tr>\n",
       "    <tr>\n",
       "      <th>7</th>\n",
       "      <td>11</td>\n",
       "      <td>1</td>\n",
       "    </tr>\n",
       "    <tr>\n",
       "      <th>8</th>\n",
       "      <td>12</td>\n",
       "      <td>1</td>\n",
       "    </tr>\n",
       "    <tr>\n",
       "      <th>9</th>\n",
       "      <td>14</td>\n",
       "      <td>1</td>\n",
       "    </tr>\n",
       "    <tr>\n",
       "      <th>10</th>\n",
       "      <td>17</td>\n",
       "      <td>0</td>\n",
       "    </tr>\n",
       "    <tr>\n",
       "      <th>11</th>\n",
       "      <td>18</td>\n",
       "      <td>0</td>\n",
       "    </tr>\n",
       "    <tr>\n",
       "      <th>12</th>\n",
       "      <td>19</td>\n",
       "      <td>0</td>\n",
       "    </tr>\n",
       "    <tr>\n",
       "      <th>13</th>\n",
       "      <td>20</td>\n",
       "      <td>1</td>\n",
       "    </tr>\n",
       "    <tr>\n",
       "      <th>14</th>\n",
       "      <td>21</td>\n",
       "      <td>0</td>\n",
       "    </tr>\n",
       "    <tr>\n",
       "      <th>15</th>\n",
       "      <td>22</td>\n",
       "      <td>0</td>\n",
       "    </tr>\n",
       "    <tr>\n",
       "      <th>16</th>\n",
       "      <td>24</td>\n",
       "      <td>0</td>\n",
       "    </tr>\n",
       "    <tr>\n",
       "      <th>17</th>\n",
       "      <td>25</td>\n",
       "      <td>1</td>\n",
       "    </tr>\n",
       "    <tr>\n",
       "      <th>18</th>\n",
       "      <td>26</td>\n",
       "      <td>1</td>\n",
       "    </tr>\n",
       "    <tr>\n",
       "      <th>19</th>\n",
       "      <td>28</td>\n",
       "      <td>1</td>\n",
       "    </tr>\n",
       "  </tbody>\n",
       "</table>\n",
       "</div>"
      ],
      "text/plain": [
       "    BraTS21ID  MGMT_value\n",
       "0           0           1\n",
       "1           2           1\n",
       "2           3           0\n",
       "3           5           1\n",
       "4           6           1\n",
       "5           8           1\n",
       "6           9           0\n",
       "7          11           1\n",
       "8          12           1\n",
       "9          14           1\n",
       "10         17           0\n",
       "11         18           0\n",
       "12         19           0\n",
       "13         20           1\n",
       "14         21           0\n",
       "15         22           0\n",
       "16         24           0\n",
       "17         25           1\n",
       "18         26           1\n",
       "19         28           1"
      ]
     },
     "execution_count": 3,
     "metadata": {},
     "output_type": "execute_result"
    }
   ],
   "source": [
    "train_labels.head(20)"
   ]
  },
  {
   "cell_type": "code",
   "execution_count": 4,
   "id": "93ed0064",
   "metadata": {
    "execution": {
     "iopub.execute_input": "2021-10-03T12:15:48.235274Z",
     "iopub.status.busy": "2021-10-03T12:15:48.234786Z",
     "iopub.status.idle": "2021-10-03T12:15:48.244461Z",
     "shell.execute_reply": "2021-10-03T12:15:48.244046Z",
     "shell.execute_reply.started": "2021-10-03T12:02:13.152244Z"
    },
    "papermill": {
     "duration": 0.040469,
     "end_time": "2021-10-03T12:15:48.244569",
     "exception": false,
     "start_time": "2021-10-03T12:15:48.204100",
     "status": "completed"
    },
    "tags": []
   },
   "outputs": [],
   "source": [
    "sample_df=pd.read_csv('../input/rsna-miccai-brain-tumor-radiogenomic-classification/sample_submission.csv')"
   ]
  },
  {
   "cell_type": "code",
   "execution_count": 5,
   "id": "2d8596ad",
   "metadata": {
    "execution": {
     "iopub.execute_input": "2021-10-03T12:15:48.307572Z",
     "iopub.status.busy": "2021-10-03T12:15:48.307004Z",
     "iopub.status.idle": "2021-10-03T12:15:48.311830Z",
     "shell.execute_reply": "2021-10-03T12:15:48.312233Z",
     "shell.execute_reply.started": "2021-10-03T12:02:13.167546Z"
    },
    "papermill": {
     "duration": 0.040071,
     "end_time": "2021-10-03T12:15:48.312346",
     "exception": false,
     "start_time": "2021-10-03T12:15:48.272275",
     "status": "completed"
    },
    "tags": []
   },
   "outputs": [
    {
     "data": {
      "text/html": [
       "<div>\n",
       "<style scoped>\n",
       "    .dataframe tbody tr th:only-of-type {\n",
       "        vertical-align: middle;\n",
       "    }\n",
       "\n",
       "    .dataframe tbody tr th {\n",
       "        vertical-align: top;\n",
       "    }\n",
       "\n",
       "    .dataframe thead th {\n",
       "        text-align: right;\n",
       "    }\n",
       "</style>\n",
       "<table border=\"1\" class=\"dataframe\">\n",
       "  <thead>\n",
       "    <tr style=\"text-align: right;\">\n",
       "      <th></th>\n",
       "      <th>BraTS21ID</th>\n",
       "      <th>MGMT_value</th>\n",
       "    </tr>\n",
       "  </thead>\n",
       "  <tbody>\n",
       "    <tr>\n",
       "      <th>0</th>\n",
       "      <td>1</td>\n",
       "      <td>0.5</td>\n",
       "    </tr>\n",
       "    <tr>\n",
       "      <th>1</th>\n",
       "      <td>13</td>\n",
       "      <td>0.5</td>\n",
       "    </tr>\n",
       "    <tr>\n",
       "      <th>2</th>\n",
       "      <td>15</td>\n",
       "      <td>0.5</td>\n",
       "    </tr>\n",
       "  </tbody>\n",
       "</table>\n",
       "</div>"
      ],
      "text/plain": [
       "   BraTS21ID  MGMT_value\n",
       "0          1         0.5\n",
       "1         13         0.5\n",
       "2         15         0.5"
      ]
     },
     "execution_count": 5,
     "metadata": {},
     "output_type": "execute_result"
    }
   ],
   "source": [
    "sample_df.head(3)"
   ]
  },
  {
   "cell_type": "code",
   "execution_count": 6,
   "id": "249eba36",
   "metadata": {
    "execution": {
     "iopub.execute_input": "2021-10-03T12:15:48.374460Z",
     "iopub.status.busy": "2021-10-03T12:15:48.373797Z",
     "iopub.status.idle": "2021-10-03T12:15:48.392000Z",
     "shell.execute_reply": "2021-10-03T12:15:48.392696Z",
     "shell.execute_reply.started": "2021-10-03T12:02:13.182453Z"
    },
    "papermill": {
     "duration": 0.05198,
     "end_time": "2021-10-03T12:15:48.392832",
     "exception": false,
     "start_time": "2021-10-03T12:15:48.340852",
     "status": "completed"
    },
    "tags": []
   },
   "outputs": [],
   "source": [
    "# drop some rows of the train_labels data as these\n",
    "# are corrupted\n",
    "for id in [109, 123, 709]:\n",
    "    train_labels.drop(train_labels[train_labels[\"BraTS21ID\"]==id].index, inplace=True)"
   ]
  },
  {
   "cell_type": "code",
   "execution_count": 7,
   "id": "1571ec8b",
   "metadata": {
    "execution": {
     "iopub.execute_input": "2021-10-03T12:15:48.453601Z",
     "iopub.status.busy": "2021-10-03T12:15:48.452910Z",
     "iopub.status.idle": "2021-10-03T12:15:48.654585Z",
     "shell.execute_reply": "2021-10-03T12:15:48.654172Z",
     "shell.execute_reply.started": "2021-10-03T12:02:13.205432Z"
    },
    "papermill": {
     "duration": 0.234043,
     "end_time": "2021-10-03T12:15:48.654694",
     "exception": false,
     "start_time": "2021-10-03T12:15:48.420651",
     "status": "completed"
    },
    "tags": []
   },
   "outputs": [
    {
     "data": {
      "text/plain": [
       "<AxesSubplot:>"
      ]
     },
     "execution_count": 7,
     "metadata": {},
     "output_type": "execute_result"
    },
    {
     "data": {
      "image/png": "[encoded data removed]",
      "text/plain": [
       "<Figure size 432x288 with 1 Axes>"
      ]
     },
     "metadata": {
      "needs_background": "light"
     },
     "output_type": "display_data"
    }
   ],
   "source": [
    "train_labels['MGMT_value'].value_counts().plot.bar()"
   ]
  },
  {
   "cell_type": "code",
   "execution_count": 8,
   "id": "ffa4ad99",
   "metadata": {
    "execution": {
     "iopub.execute_input": "2021-10-03T12:15:48.716056Z",
     "iopub.status.busy": "2021-10-03T12:15:48.715441Z",
     "iopub.status.idle": "2021-10-03T12:15:48.718074Z",
     "shell.execute_reply": "2021-10-03T12:15:48.717660Z",
     "shell.execute_reply.started": "2021-10-03T12:02:13.417070Z"
    },
    "papermill": {
     "duration": 0.034308,
     "end_time": "2021-10-03T12:15:48.718172",
     "exception": false,
     "start_time": "2021-10-03T12:15:48.683864",
     "status": "completed"
    },
    "tags": []
   },
   "outputs": [],
   "source": [
    "main_path='../input/rsna-miccai-brain-tumor-radiogenomic-classification'"
   ]
  },
  {
   "cell_type": "code",
   "execution_count": 9,
   "id": "29c9447e",
   "metadata": {
    "execution": {
     "iopub.execute_input": "2021-10-03T12:15:48.779963Z",
     "iopub.status.busy": "2021-10-03T12:15:48.779174Z",
     "iopub.status.idle": "2021-10-03T12:15:48.781136Z",
     "shell.execute_reply": "2021-10-03T12:15:48.781588Z",
     "shell.execute_reply.started": "2021-10-03T12:02:13.425259Z"
    },
    "papermill": {
     "duration": 0.03485,
     "end_time": "2021-10-03T12:15:48.781709",
     "exception": false,
     "start_time": "2021-10-03T12:15:48.746859",
     "status": "completed"
    },
    "tags": []
   },
   "outputs": [],
   "source": [
    "# set seed\n",
    "random.seed(123)\n",
    "np.random.seed(345)\n",
    "tf.random.set_seed(125)"
   ]
  },
  {
   "cell_type": "code",
   "execution_count": 10,
   "id": "51ce0ce1",
   "metadata": {
    "execution": {
     "iopub.execute_input": "2021-10-03T12:15:48.841589Z",
     "iopub.status.busy": "2021-10-03T12:15:48.840812Z",
     "iopub.status.idle": "2021-10-03T12:15:48.844663Z",
     "shell.execute_reply": "2021-10-03T12:15:48.844195Z",
     "shell.execute_reply.started": "2021-10-03T12:02:13.433941Z"
    },
    "papermill": {
     "duration": 0.034523,
     "end_time": "2021-10-03T12:15:48.844767",
     "exception": false,
     "start_time": "2021-10-03T12:15:48.810244",
     "status": "completed"
    },
    "tags": []
   },
   "outputs": [],
   "source": [
    "mri_types=['FLAIR','T1wCE','T2w','T1w']"
   ]
  },
  {
   "cell_type": "code",
   "execution_count": 11,
   "id": "27e18607",
   "metadata": {
    "execution": {
     "iopub.execute_input": "2021-10-03T12:15:48.905307Z",
     "iopub.status.busy": "2021-10-03T12:15:48.904640Z",
     "iopub.status.idle": "2021-10-03T12:15:48.906675Z",
     "shell.execute_reply": "2021-10-03T12:15:48.907070Z",
     "shell.execute_reply.started": "2021-10-03T12:02:13.440369Z"
    },
    "papermill": {
     "duration": 0.033804,
     "end_time": "2021-10-03T12:15:48.907181",
     "exception": false,
     "start_time": "2021-10-03T12:15:48.873377",
     "status": "completed"
    },
    "tags": []
   },
   "outputs": [],
   "source": [
    "#tf.reshape(tf.stack([[[[2,3],[4,5]]],[[[10,12],[13,15]]]],axis=0),shape=(-1,2,2))"
   ]
  },
  {
   "cell_type": "code",
   "execution_count": 12,
   "id": "5c9726d1",
   "metadata": {
    "execution": {
     "iopub.execute_input": "2021-10-03T12:15:48.978104Z",
     "iopub.status.busy": "2021-10-03T12:15:48.977272Z",
     "iopub.status.idle": "2021-10-03T12:15:48.979616Z",
     "shell.execute_reply": "2021-10-03T12:15:48.979187Z",
     "shell.execute_reply.started": "2021-10-03T12:02:13.448036Z"
    },
    "papermill": {
     "duration": 0.043782,
     "end_time": "2021-10-03T12:15:48.979722",
     "exception": false,
     "start_time": "2021-10-03T12:15:48.935940",
     "status": "completed"
    },
    "tags": []
   },
   "outputs": [],
   "source": [
    "def read_dicom_img(dataset_dir, file_id,max_samples=20,img_size=256):\n",
    "    file_path = f\"{main_path}/{dataset_dir}/{str(file_id).zfill(5)}\"\n",
    "    final_img = {'FLAIR':[], 'T1w':[], 'T1wCE':[], 'T2w':[]}\n",
    "            \n",
    "    for mri_type in mri_types:\n",
    "        final_file_path = f\"{file_path}/{mri_type}\"\n",
    "        files= tf.random.shuffle(os.listdir(final_file_path),seed=45).numpy().tolist()\n",
    "        #files= os.listdir(final_file_path)\n",
    "\n",
    "        for image_file in files[:max_samples]:\n",
    "            data = pdcm.dcmread(f\"{final_file_path}/{image_file.decode('utf-8')}\")\n",
    "            #data = pdcm.dcmread(f\"{final_file_path}/{image_file}\")\n",
    "            img_data = data.pixel_array\n",
    "            img_data = cv2.resize(img_data, (img_size,img_size))\n",
    "            img_data=img_data.astype(\"float32\")\n",
    "            \n",
    "            #if np.min(img_data) < np.max(img_data):\n",
    "                #img_data = (img_data - np.min(img_data))/(np.max(img_data))\n",
    "            if np.max(img_data)!=0:\n",
    "                if np.min(img_data)<np.max(img_data):\n",
    "                    img_data=(img_data-np.min(img_data))/np.max(img_data)\n",
    "                #img_data=img_data/np.max(img_data)\n",
    "                #img_data=(img_data*255).astype(np.uint8)\n",
    "                #final_img[mri_type].append(img_data)\n",
    "                \n",
    "                final_img[mri_type].append(img_data)\n",
    "            \n",
    "    # merge all the images related to each type into a single tensor\n",
    "    #for mri_type in mri_types:\n",
    "    input_tensor=np.concatenate([final_img[mri_type] for mri_type in mri_types],axis=0)\n",
    "    #input_tensor=tf.concat([input_tensor1,input_tensor2,input_tensor3,input_tensor4],axis=0)\n",
    "    size=input_tensor.shape\n",
    "    img = np.reshape(input_tensor, (size[1],size[2],size[0]))\n",
    "    \n",
    "    \"\"\"Resize across z-axis\"\"\"\n",
    "    # Set the desired depth\n",
    "    desired_depth = 64\n",
    "    desired_width = 256\n",
    "    desired_height = 256\n",
    "    # Get current depth\n",
    "    current_depth = img.shape[-1]\n",
    "    current_width = img.shape[0]\n",
    "    current_height = img.shape[1]\n",
    "    # Compute depth factor\n",
    "    depth = current_depth / desired_depth\n",
    "    width = current_width / desired_width\n",
    "    height = current_height / desired_height\n",
    "    depth_factor = 1 / depth\n",
    "    width_factor = 1 / width\n",
    "    height_factor = 1 / height\n",
    "    # Rotate\n",
    "    img = ndimage.rotate(img, 90, reshape=False)\n",
    "    # Resize across z-axis\n",
    "    img = ndimage.zoom(img, (width_factor, height_factor, depth_factor), order=1)\n",
    "    img=np.expand_dims(img,axis=-1)\n",
    "    # label=train_labels.loc[train_labels[train_labels['BraTS21ID']==file_id].index[0],'MGMT_value']\n",
    "    return img,final_img"
   ]
  },
  {
   "cell_type": "code",
   "execution_count": 13,
   "id": "0579c773",
   "metadata": {
    "execution": {
     "iopub.execute_input": "2021-10-03T12:15:49.040602Z",
     "iopub.status.busy": "2021-10-03T12:15:49.040111Z",
     "iopub.status.idle": "2021-10-03T12:15:52.275494Z",
     "shell.execute_reply": "2021-10-03T12:15:52.275014Z",
     "shell.execute_reply.started": "2021-10-03T12:02:16.019773Z"
    },
    "papermill": {
     "duration": 3.266839,
     "end_time": "2021-10-03T12:15:52.275630",
     "exception": false,
     "start_time": "2021-10-03T12:15:49.008791",
     "status": "completed"
    },
    "tags": []
   },
   "outputs": [
    {
     "name": "stderr",
     "output_type": "stream",
     "text": [
      "2021-10-03 12:15:49.125467: I tensorflow/compiler/jit/xla_cpu_device.cc:41] Not creating XLA devices, tf_xla_enable_xla_devices not set\n",
      "2021-10-03 12:15:49.128516: I tensorflow/stream_executor/platform/default/dso_loader.cc:49] Successfully opened dynamic library libcuda.so.1\n",
      "2021-10-03 12:15:49.174716: I tensorflow/stream_executor/cuda/cuda_gpu_executor.cc:941] successful NUMA node read from SysFS had negative value (-1), but there must be at least one NUMA node, so returning NUMA node zero\n",
      "2021-10-03 12:15:49.175314: I tensorflow/core/common_runtime/gpu/gpu_device.cc:1720] Found device 0 with properties: \n",
      "pciBusID: 0000:00:04.0 name: Tesla P100-PCIE-16GB computeCapability: 6.0\n",
      "coreClock: 1.3285GHz coreCount: 56 deviceMemorySize: 15.90GiB deviceMemoryBandwidth: 681.88GiB/s\n",
      "2021-10-03 12:15:49.175366: I tensorflow/stream_executor/platform/default/dso_loader.cc:49] Successfully opened dynamic library libcudart.so.11.0\n",
      "2021-10-03 12:15:49.201076: I tensorflow/stream_executor/platform/default/dso_loader.cc:49] Successfully opened dynamic library libcublas.so.11\n",
      "2021-10-03 12:15:49.201159: I tensorflow/stream_executor/platform/default/dso_loader.cc:49] Successfully opened dynamic library libcublasLt.so.11\n",
      "2021-10-03 12:15:49.218785: I tensorflow/stream_executor/platform/default/dso_loader.cc:49] Successfully opened dynamic library libcufft.so.10\n",
      "2021-10-03 12:15:49.257905: I tensorflow/stream_executor/platform/default/dso_loader.cc:49] Successfully opened dynamic library libcurand.so.10\n",
      "2021-10-03 12:15:49.313110: I tensorflow/stream_executor/platform/default/dso_loader.cc:49] Successfully opened dynamic library libcusolver.so.10\n",
      "2021-10-03 12:15:49.320643: I tensorflow/stream_executor/platform/default/dso_loader.cc:49] Successfully opened dynamic library libcusparse.so.11\n",
      "2021-10-03 12:15:49.324057: I tensorflow/stream_executor/platform/default/dso_loader.cc:49] Successfully opened dynamic library libcudnn.so.8\n",
      "2021-10-03 12:15:49.324220: I tensorflow/stream_executor/cuda/cuda_gpu_executor.cc:941] successful NUMA node read from SysFS had negative value (-1), but there must be at least one NUMA node, so returning NUMA node zero\n",
      "2021-10-03 12:15:49.324884: I tensorflow/stream_executor/cuda/cuda_gpu_executor.cc:941] successful NUMA node read from SysFS had negative value (-1), but there must be at least one NUMA node, so returning NUMA node zero\n",
      "2021-10-03 12:15:49.326375: I tensorflow/core/common_runtime/gpu/gpu_device.cc:1862] Adding visible gpu devices: 0\n",
      "2021-10-03 12:15:49.327878: I tensorflow/core/platform/cpu_feature_guard.cc:142] This TensorFlow binary is optimized with oneAPI Deep Neural Network Library (oneDNN) to use the following CPU instructions in performance-critical operations:  AVX2 AVX512F FMA\n",
      "To enable them in other operations, rebuild TensorFlow with the appropriate compiler flags.\n",
      "2021-10-03 12:15:49.328892: I tensorflow/compiler/jit/xla_gpu_device.cc:99] Not creating XLA devices, tf_xla_enable_xla_devices not set\n",
      "2021-10-03 12:15:49.329059: I tensorflow/stream_executor/cuda/cuda_gpu_executor.cc:941] successful NUMA node read from SysFS had negative value (-1), but there must be at least one NUMA node, so returning NUMA node zero\n",
      "2021-10-03 12:15:49.329653: I tensorflow/core/common_runtime/gpu/gpu_device.cc:1720] Found device 0 with properties: \n",
      "pciBusID: 0000:00:04.0 name: Tesla P100-PCIE-16GB computeCapability: 6.0\n",
      "coreClock: 1.3285GHz coreCount: 56 deviceMemorySize: 15.90GiB deviceMemoryBandwidth: 681.88GiB/s\n",
      "2021-10-03 12:15:49.329693: I tensorflow/stream_executor/platform/default/dso_loader.cc:49] Successfully opened dynamic library libcudart.so.11.0\n",
      "2021-10-03 12:15:49.329719: I tensorflow/stream_executor/platform/default/dso_loader.cc:49] Successfully opened dynamic library libcublas.so.11\n",
      "2021-10-03 12:15:49.329736: I tensorflow/stream_executor/platform/default/dso_loader.cc:49] Successfully opened dynamic library libcublasLt.so.11\n",
      "2021-10-03 12:15:49.329753: I tensorflow/stream_executor/platform/default/dso_loader.cc:49] Successfully opened dynamic library libcufft.so.10\n",
      "2021-10-03 12:15:49.329769: I tensorflow/stream_executor/platform/default/dso_loader.cc:49] Successfully opened dynamic library libcurand.so.10\n",
      "2021-10-03 12:15:49.329785: I tensorflow/stream_executor/platform/default/dso_loader.cc:49] Successfully opened dynamic library libcusolver.so.10\n",
      "2021-10-03 12:15:49.329803: I tensorflow/stream_executor/platform/default/dso_loader.cc:49] Successfully opened dynamic library libcusparse.so.11\n",
      "2021-10-03 12:15:49.329820: I tensorflow/stream_executor/platform/default/dso_loader.cc:49] Successfully opened dynamic library libcudnn.so.8\n",
      "2021-10-03 12:15:49.329917: I tensorflow/stream_executor/cuda/cuda_gpu_executor.cc:941] successful NUMA node read from SysFS had negative value (-1), but there must be at least one NUMA node, so returning NUMA node zero\n",
      "2021-10-03 12:15:49.330524: I tensorflow/stream_executor/cuda/cuda_gpu_executor.cc:941] successful NUMA node read from SysFS had negative value (-1), but there must be at least one NUMA node, so returning NUMA node zero\n",
      "2021-10-03 12:15:49.331051: I tensorflow/core/common_runtime/gpu/gpu_device.cc:1862] Adding visible gpu devices: 0\n",
      "2021-10-03 12:15:49.331646: I tensorflow/stream_executor/platform/default/dso_loader.cc:49] Successfully opened dynamic library libcudart.so.11.0\n",
      "2021-10-03 12:15:50.721915: I tensorflow/core/common_runtime/gpu/gpu_device.cc:1261] Device interconnect StreamExecutor with strength 1 edge matrix:\n",
      "2021-10-03 12:15:50.721974: I tensorflow/core/common_runtime/gpu/gpu_device.cc:1267]      0 \n",
      "2021-10-03 12:15:50.721984: I tensorflow/core/common_runtime/gpu/gpu_device.cc:1280] 0:   N \n",
      "2021-10-03 12:15:50.724257: I tensorflow/stream_executor/cuda/cuda_gpu_executor.cc:941] successful NUMA node read from SysFS had negative value (-1), but there must be at least one NUMA node, so returning NUMA node zero\n",
      "2021-10-03 12:15:50.725024: I tensorflow/stream_executor/cuda/cuda_gpu_executor.cc:941] successful NUMA node read from SysFS had negative value (-1), but there must be at least one NUMA node, so returning NUMA node zero\n",
      "2021-10-03 12:15:50.725655: I tensorflow/stream_executor/cuda/cuda_gpu_executor.cc:941] successful NUMA node read from SysFS had negative value (-1), but there must be at least one NUMA node, so returning NUMA node zero\n",
      "2021-10-03 12:15:50.726199: I tensorflow/core/common_runtime/gpu/gpu_device.cc:1406] Created TensorFlow device (/job:localhost/replica:0/task:0/device:GPU:0 with 14957 MB memory) -> physical GPU (device: 0, name: Tesla P100-PCIE-16GB, pci bus id: 0000:00:04.0, compute capability: 6.0)\n"
     ]
    }
   ],
   "source": [
    "input_tensor,final_img=read_dicom_img('train', 28)"
   ]
  },
  {
   "cell_type": "code",
   "execution_count": 14,
   "id": "a62f1897",
   "metadata": {
    "execution": {
     "iopub.execute_input": "2021-10-03T12:15:52.340320Z",
     "iopub.status.busy": "2021-10-03T12:15:52.339413Z",
     "iopub.status.idle": "2021-10-03T12:15:52.342356Z",
     "shell.execute_reply": "2021-10-03T12:15:52.342804Z",
     "shell.execute_reply.started": "2021-10-03T12:02:19.342717Z"
    },
    "papermill": {
     "duration": 0.037206,
     "end_time": "2021-10-03T12:15:52.342926",
     "exception": false,
     "start_time": "2021-10-03T12:15:52.305720",
     "status": "completed"
    },
    "tags": []
   },
   "outputs": [
    {
     "data": {
      "text/plain": [
       "(256, 256, 64, 1)"
      ]
     },
     "execution_count": 14,
     "metadata": {},
     "output_type": "execute_result"
    }
   ],
   "source": [
    "input_tensor.shape"
   ]
  },
  {
   "cell_type": "code",
   "execution_count": 15,
   "id": "96e1907f",
   "metadata": {
    "execution": {
     "iopub.execute_input": "2021-10-03T12:15:52.405817Z",
     "iopub.status.busy": "2021-10-03T12:15:52.405276Z",
     "iopub.status.idle": "2021-10-03T12:15:52.410163Z",
     "shell.execute_reply": "2021-10-03T12:15:52.410639Z",
     "shell.execute_reply.started": "2021-10-03T12:02:30.879065Z"
    },
    "papermill": {
     "duration": 0.038251,
     "end_time": "2021-10-03T12:15:52.410757",
     "exception": false,
     "start_time": "2021-10-03T12:15:52.372506",
     "status": "completed"
    },
    "tags": []
   },
   "outputs": [
    {
     "data": {
      "text/plain": [
       "-7.989128e-18"
      ]
     },
     "execution_count": 15,
     "metadata": {},
     "output_type": "execute_result"
    }
   ],
   "source": [
    "np.max(input_tensor[0,0,0])"
   ]
  },
  {
   "cell_type": "code",
   "execution_count": 16,
   "id": "7c5155fb",
   "metadata": {
    "execution": {
     "iopub.execute_input": "2021-10-03T12:15:52.491918Z",
     "iopub.status.busy": "2021-10-03T12:15:52.490836Z",
     "iopub.status.idle": "2021-10-03T12:15:53.685633Z",
     "shell.execute_reply": "2021-10-03T12:15:53.685208Z",
     "shell.execute_reply.started": "2021-10-03T12:02:31.463187Z"
    },
    "papermill": {
     "duration": 1.245368,
     "end_time": "2021-10-03T12:15:53.685755",
     "exception": false,
     "start_time": "2021-10-03T12:15:52.440387",
     "status": "completed"
    },
    "tags": []
   },
   "outputs": [
    {
     "data": {
      "image/png": "[encoded data removed]",
      "text/plain": [
       "<Figure size 432x288 with 2 Axes>"
      ]
     },
     "metadata": {
      "needs_background": "light"
     },
     "output_type": "display_data"
    },
    {
     "data": {
      "image/png": "[encoded data removed]",
      "text/plain": [
       "<Figure size 432x288 with 2 Axes>"
      ]
     },
     "metadata": {
      "needs_background": "light"
     },
     "output_type": "display_data"
    },
    {
     "data": {
      "image/png": "[encoded data removed]",
      "text/plain": [
       "<Figure size 432x288 with 2 Axes>"
      ]
     },
     "metadata": {
      "needs_background": "light"
     },
     "output_type": "display_data"
    },
    {
     "data": {
      "image/png": "[encoded data removed]",
      "text/plain": [
       "<Figure size 432x288 with 2 Axes>"
      ]
     },
     "metadata": {
      "needs_background": "light"
     },
     "output_type": "display_data"
    }
   ],
   "source": [
    "# plotting\n",
    "for mri_type in mri_types:\n",
    "    fig,axs=plt.subplots(1,2)\n",
    "    imgs=final_img[mri_type][:2]\n",
    "    for i,img in enumerate(imgs):\n",
    "        axs[i].imshow(img,cmap='gray')\n",
    "        axs[i].set_title(mri_type+str(i))\n",
    "        \n",
    "    "
   ]
  },
  {
   "cell_type": "code",
   "execution_count": 17,
   "id": "7a7f8d12",
   "metadata": {
    "execution": {
     "iopub.execute_input": "2021-10-03T12:15:53.757029Z",
     "iopub.status.busy": "2021-10-03T12:15:53.756522Z",
     "iopub.status.idle": "2021-10-03T12:15:53.759912Z",
     "shell.execute_reply": "2021-10-03T12:15:53.760283Z",
     "shell.execute_reply.started": "2021-10-03T10:08:00.902489Z"
    },
    "papermill": {
     "duration": 0.040894,
     "end_time": "2021-10-03T12:15:53.760448",
     "exception": false,
     "start_time": "2021-10-03T12:15:53.719554",
     "status": "completed"
    },
    "tags": []
   },
   "outputs": [],
   "source": [
    "#dataset_dir='train'\n",
    "#mini=99\n",
    "#for file_id in tqdm(train_labels['BraTS21ID']):\n",
    " #   _,label,final_img=read_dicom_img(dataset_dir, file_id)\n",
    "  #  mn=min(len(final_img['FLAIR']),\n",
    "   #        len(final_img['T1w']),\n",
    "    #       len(final_img['T1wCE']),\n",
    "     #      len(final_img['T2w']))\n",
    "    #if mn<mini:\n",
    "     #   mini=mn\n",
    "           \n",
    "#mini   "
   ]
  },
  {
   "cell_type": "markdown",
   "id": "722db8b9",
   "metadata": {
    "papermill": {
     "duration": 0.03276,
     "end_time": "2021-10-03T12:15:53.826495",
     "exception": false,
     "start_time": "2021-10-03T12:15:53.793735",
     "status": "completed"
    },
    "tags": []
   },
   "source": [
    "## Train and Validation data "
   ]
  },
  {
   "cell_type": "code",
   "execution_count": 18,
   "id": "9f0e8ed8",
   "metadata": {
    "execution": {
     "iopub.execute_input": "2021-10-03T12:15:53.895837Z",
     "iopub.status.busy": "2021-10-03T12:15:53.895266Z",
     "iopub.status.idle": "2021-10-03T12:15:53.898612Z",
     "shell.execute_reply": "2021-10-03T12:15:53.899027Z",
     "shell.execute_reply.started": "2021-10-03T10:08:01.761942Z"
    },
    "papermill": {
     "duration": 0.03945,
     "end_time": "2021-10-03T12:15:53.899151",
     "exception": false,
     "start_time": "2021-10-03T12:15:53.859701",
     "status": "completed"
    },
    "tags": []
   },
   "outputs": [],
   "source": [
    "#dataset_dir='train'\n",
    "#dataset=np.array([read_dicom_img(dataset_dir, file_id)[0] for file_id in tqdm(train_labels['BraTS21ID'])])\n",
    "#dataset_labels=train_labels['MGMT_value'].values \n",
    "#dataset=np.concatenate(dataset,axis=0)"
   ]
  },
  {
   "cell_type": "code",
   "execution_count": 19,
   "id": "8100a0c0",
   "metadata": {
    "execution": {
     "iopub.execute_input": "2021-10-03T12:15:53.969150Z",
     "iopub.status.busy": "2021-10-03T12:15:53.968042Z",
     "iopub.status.idle": "2021-10-03T12:15:53.969855Z",
     "shell.execute_reply": "2021-10-03T12:15:53.970283Z",
     "shell.execute_reply.started": "2021-10-03T10:08:02.174965Z"
    },
    "papermill": {
     "duration": 0.038178,
     "end_time": "2021-10-03T12:15:53.970420",
     "exception": false,
     "start_time": "2021-10-03T12:15:53.932242",
     "status": "completed"
    },
    "tags": []
   },
   "outputs": [],
   "source": [
    "#dataset.shape"
   ]
  },
  {
   "cell_type": "code",
   "execution_count": 20,
   "id": "dc141a4e",
   "metadata": {
    "execution": {
     "iopub.execute_input": "2021-10-03T12:15:54.048096Z",
     "iopub.status.busy": "2021-10-03T12:15:54.047331Z",
     "iopub.status.idle": "2021-10-03T12:15:54.049711Z",
     "shell.execute_reply": "2021-10-03T12:15:54.049285Z",
     "shell.execute_reply.started": "2021-10-03T10:08:02.50824Z"
    },
    "papermill": {
     "duration": 0.043455,
     "end_time": "2021-10-03T12:15:54.049809",
     "exception": false,
     "start_time": "2021-10-03T12:15:54.006354",
     "status": "completed"
    },
    "tags": []
   },
   "outputs": [],
   "source": [
    "#dataset=np.reshape(dataset,(-1,128,128,64))"
   ]
  },
  {
   "cell_type": "code",
   "execution_count": 21,
   "id": "5668c020",
   "metadata": {
    "execution": {
     "iopub.execute_input": "2021-10-03T12:15:54.120657Z",
     "iopub.status.busy": "2021-10-03T12:15:54.119903Z",
     "iopub.status.idle": "2021-10-03T12:15:54.121996Z",
     "shell.execute_reply": "2021-10-03T12:15:54.122395Z",
     "shell.execute_reply.started": "2021-10-03T10:08:02.824078Z"
    },
    "papermill": {
     "duration": 0.039218,
     "end_time": "2021-10-03T12:15:54.122534",
     "exception": false,
     "start_time": "2021-10-03T12:15:54.083316",
     "status": "completed"
    },
    "tags": []
   },
   "outputs": [],
   "source": [
    "#dataset.shape"
   ]
  },
  {
   "cell_type": "code",
   "execution_count": 22,
   "id": "5c2d1a3b",
   "metadata": {
    "execution": {
     "iopub.execute_input": "2021-10-03T12:15:54.192419Z",
     "iopub.status.busy": "2021-10-03T12:15:54.191678Z",
     "iopub.status.idle": "2021-10-03T12:15:54.194014Z",
     "shell.execute_reply": "2021-10-03T12:15:54.193562Z",
     "shell.execute_reply.started": "2021-10-03T10:08:03.2246Z"
    },
    "papermill": {
     "duration": 0.038324,
     "end_time": "2021-10-03T12:15:54.194111",
     "exception": false,
     "start_time": "2021-10-03T12:15:54.155787",
     "status": "completed"
    },
    "tags": []
   },
   "outputs": [],
   "source": [
    "#x_train,x_val,y_train,y_val=train_test_split(dataset,dataset_labels,test_size=0.04,random_state=42,shuffle=True)"
   ]
  },
  {
   "cell_type": "code",
   "execution_count": 23,
   "id": "f721cda4",
   "metadata": {
    "execution": {
     "iopub.execute_input": "2021-10-03T12:15:54.262923Z",
     "iopub.status.busy": "2021-10-03T12:15:54.262148Z",
     "iopub.status.idle": "2021-10-03T12:15:54.264544Z",
     "shell.execute_reply": "2021-10-03T12:15:54.264112Z",
     "shell.execute_reply.started": "2021-10-03T10:08:03.551Z"
    },
    "papermill": {
     "duration": 0.037989,
     "end_time": "2021-10-03T12:15:54.264643",
     "exception": false,
     "start_time": "2021-10-03T12:15:54.226654",
     "status": "completed"
    },
    "tags": []
   },
   "outputs": [],
   "source": [
    "#x_train.shape,x_val.shape"
   ]
  },
  {
   "cell_type": "code",
   "execution_count": 24,
   "id": "b7be169e",
   "metadata": {
    "execution": {
     "iopub.execute_input": "2021-10-03T12:15:54.335194Z",
     "iopub.status.busy": "2021-10-03T12:15:54.333724Z",
     "iopub.status.idle": "2021-10-03T12:15:54.335847Z",
     "shell.execute_reply": "2021-10-03T12:15:54.336226Z",
     "shell.execute_reply.started": "2021-10-03T10:08:03.890202Z"
    },
    "papermill": {
     "duration": 0.038912,
     "end_time": "2021-10-03T12:15:54.336345",
     "exception": false,
     "start_time": "2021-10-03T12:15:54.297433",
     "status": "completed"
    },
    "tags": []
   },
   "outputs": [],
   "source": [
    "#x_train=tf.expand_dims(x_train,axis=-1)\n",
    "#x_val=tf.expand_dims(x_val,axis=-1)\n"
   ]
  },
  {
   "cell_type": "markdown",
   "id": "b4096277",
   "metadata": {
    "papermill": {
     "duration": 0.032649,
     "end_time": "2021-10-03T12:15:54.401800",
     "exception": false,
     "start_time": "2021-10-03T12:15:54.369151",
     "status": "completed"
    },
    "tags": []
   },
   "source": [
    "## Data Augmentation"
   ]
  },
  {
   "cell_type": "code",
   "execution_count": 25,
   "id": "ee96fa07",
   "metadata": {
    "execution": {
     "iopub.execute_input": "2021-10-03T12:15:54.473848Z",
     "iopub.status.busy": "2021-10-03T12:15:54.473331Z",
     "iopub.status.idle": "2021-10-03T12:15:54.769365Z",
     "shell.execute_reply": "2021-10-03T12:15:54.768851Z",
     "shell.execute_reply.started": "2021-10-03T10:08:05.109206Z"
    },
    "papermill": {
     "duration": 0.335053,
     "end_time": "2021-10-03T12:15:54.769504",
     "exception": false,
     "start_time": "2021-10-03T12:15:54.434451",
     "status": "completed"
    },
    "tags": []
   },
   "outputs": [],
   "source": [
    "@tf.function\n",
    "def rescale(volume):\n",
    "    def numpy_rescale(volume):\n",
    "        volume[volume < 0] = 0\n",
    "        volume[volume > 1] = 1\n",
    "        return volume\n",
    "\n",
    "    rescale_volume = tf.numpy_function(numpy_rescale, [volume], tf.float32)\n",
    "    return rescale_volume\n",
    "rescale=tf.keras.Sequential([tf.keras.layers.experimental.preprocessing.Rescaling(1./255)])\n",
    "data_augmentation = tf.keras.Sequential([\n",
    "  tf.keras.layers.experimental.preprocessing.RandomFlip(\"horizontal_and_vertical\",seed=42),\n",
    "  tf.keras.layers.experimental.preprocessing.RandomRotation(factor=(-0.2, 0.2),seed=42),\n",
    "  tf.keras.layers.experimental.preprocessing.RandomContrast(0.1, seed=42)    \n",
    "])\n",
    "    "
   ]
  },
  {
   "cell_type": "code",
   "execution_count": 26,
   "id": "4e0f4974",
   "metadata": {
    "execution": {
     "iopub.execute_input": "2021-10-03T12:15:54.843715Z",
     "iopub.status.busy": "2021-10-03T12:15:54.842867Z",
     "iopub.status.idle": "2021-10-03T12:15:54.844955Z",
     "shell.execute_reply": "2021-10-03T12:15:54.845424Z",
     "shell.execute_reply.started": "2021-10-03T10:08:05.474894Z"
    },
    "papermill": {
     "duration": 0.042364,
     "end_time": "2021-10-03T12:15:54.845551",
     "exception": false,
     "start_time": "2021-10-03T12:15:54.803187",
     "status": "completed"
    },
    "tags": []
   },
   "outputs": [],
   "source": [
    "AUTOTUNE = tf.data.AUTOTUNE\n",
    "batch_size=8\n",
    "def prepare_train_validation(ds, shuffle=False, augment=False):\n",
    "  # rescale all datasets\n",
    "  #ds = ds.map(lambda x, y: (rescale(x), y), \n",
    "              #num_parallel_calls=AUTOTUNE)\n",
    "  ds=ds.map(lambda x,y:(rescale(x,training=True),y),num_parallel_calls=AUTOTUNE)\n",
    "  if shuffle:\n",
    "    ds = ds.shuffle(1000)\n",
    "\n",
    "  # Batch all datasets\n",
    "  ds = ds.batch(batch_size)\n",
    "\n",
    "  # Use data augmentation only on the training set\n",
    "  if augment:\n",
    "    ds = ds.map(lambda x, y: (data_augmentation(x, training=True), y), \n",
    "                num_parallel_calls=AUTOTUNE)\n",
    "  # expand last dimension\n",
    "  ds=ds.map(lambda x,y:(tf.expand_dims(x,axis=-1),y),num_parallel_calls=AUTOTUNE)\n",
    "  \n",
    "    \n",
    "  \n",
    "\n",
    "  # Use buffered prefetching on all datasets\n",
    "  return ds.prefetch(buffer_size=AUTOTUNE)"
   ]
  },
  {
   "cell_type": "code",
   "execution_count": 27,
   "id": "5d2e1270",
   "metadata": {
    "execution": {
     "iopub.execute_input": "2021-10-03T12:15:54.915924Z",
     "iopub.status.busy": "2021-10-03T12:15:54.915119Z",
     "iopub.status.idle": "2021-10-03T12:15:54.917520Z",
     "shell.execute_reply": "2021-10-03T12:15:54.917070Z",
     "shell.execute_reply.started": "2021-10-03T10:08:05.9201Z"
    },
    "papermill": {
     "duration": 0.038971,
     "end_time": "2021-10-03T12:15:54.917628",
     "exception": false,
     "start_time": "2021-10-03T12:15:54.878657",
     "status": "completed"
    },
    "tags": []
   },
   "outputs": [],
   "source": [
    "# train data and validation data\n",
    "#train_ds = tf.data.Dataset.from_tensor_slices((x_train, y_train))\n",
    "#val_ds = tf.data.Dataset.from_tensor_slices((x_val, y_val))\n",
    "#train_ds = prepare_train_validation(train_ds, shuffle=True, augment=False)\n",
    "#val_ds = prepare_train_validation(val_ds)\n"
   ]
  },
  {
   "cell_type": "code",
   "execution_count": 28,
   "id": "cf67ba72",
   "metadata": {
    "execution": {
     "iopub.execute_input": "2021-10-03T12:15:54.987152Z",
     "iopub.status.busy": "2021-10-03T12:15:54.986383Z",
     "iopub.status.idle": "2021-10-03T12:15:54.988320Z",
     "shell.execute_reply": "2021-10-03T12:15:54.988813Z",
     "shell.execute_reply.started": "2021-10-03T10:08:06.311008Z"
    },
    "papermill": {
     "duration": 0.038449,
     "end_time": "2021-10-03T12:15:54.988982",
     "exception": false,
     "start_time": "2021-10-03T12:15:54.950533",
     "status": "completed"
    },
    "tags": []
   },
   "outputs": [],
   "source": [
    "#data = train_ds.take(1)\n",
    "#images, labels = list(data)[0]\n",
    "#images = images.numpy()\n",
    "#print(images.shape)\n",
    "#image = images[0]\n",
    "#print(\"Dimension of the MRI scan is:\", image.shape)\n",
    "#plt.imshow(np.squeeze(image)[:,:,1], cmap=\"gray\")"
   ]
  },
  {
   "cell_type": "code",
   "execution_count": 29,
   "id": "0757df6f",
   "metadata": {
    "execution": {
     "iopub.execute_input": "2021-10-03T12:15:55.070011Z",
     "iopub.status.busy": "2021-10-03T12:15:55.058198Z",
     "iopub.status.idle": "2021-10-03T12:15:55.240619Z",
     "shell.execute_reply": "2021-10-03T12:15:55.239822Z",
     "shell.execute_reply.started": "2021-10-03T12:02:58.953663Z"
    },
    "papermill": {
     "duration": 0.218679,
     "end_time": "2021-10-03T12:15:55.240740",
     "exception": false,
     "start_time": "2021-10-03T12:15:55.022061",
     "status": "completed"
    },
    "tags": []
   },
   "outputs": [],
   "source": [
    "# model creation\n",
    "width=256\n",
    "height=256\n",
    "depth=64\n",
    "epochs=100\n",
    "batch_size=16\n",
    "# Define callbacks.\n",
    "checkpoint_cb = tf.keras.callbacks.ModelCheckpoint(\n",
    "    \"3d_image_classification.h5\", save_best_only=True\n",
    ")\n",
    "early_stopping_cb = tf.keras.callbacks.EarlyStopping(monitor=\"val_acc\", patience=15)\n",
    "\n",
    "# detect and init the TPU\n",
    "#tpu = tf.distribute.cluster_resolver.TPUClusterResolver.connect()\n",
    "\n",
    "# instantiate a distribution strategy\n",
    "#tpu_strategy = tf.distribute.experimental.TPUStrategy(tpu)\n",
    "\n",
    "# instantiating the model in the strategy scope creates the model on the TPU\n",
    "#with tpu_strategy.scope():\n",
    "    \n",
    "inputs =tf.keras.Input((width, height, depth, 1))\n",
    "     \n",
    "x = tf.keras.layers.Conv3D(filters=32, kernel_size=3, activation=\"relu\")(inputs)\n",
    "x = tf.keras.layers.MaxPool3D(pool_size=2)(x)\n",
    "x = tf.keras.layers.BatchNormalization()(x)\n",
    "    \n",
    "x = tf.keras.layers.Conv3D(filters=32, kernel_size=3, activation=\"relu\")(inputs)\n",
    "x = tf.keras.layers.MaxPool3D(pool_size=2)(x)\n",
    "x = tf.keras.layers.BatchNormalization()(x)\n",
    "    \n",
    "x = tf.keras.layers.Conv3D(filters=64, kernel_size=3, activation=\"relu\")(inputs)\n",
    "x = tf.keras.layers.MaxPool3D(pool_size=2)(x)\n",
    "x = tf.keras.layers.BatchNormalization()(x)\n",
    "x = tf.keras.layers.Dropout(0.01)(x)\n",
    "    \n",
    "x = tf.keras.layers.Conv3D(filters=128, kernel_size=3, activation=\"relu\")(x)\n",
    "x = tf.keras.layers.MaxPool3D(pool_size=2)(x)\n",
    "x = tf.keras.layers.BatchNormalization()(x)\n",
    "x =tf.keras.layers.Dropout(0.02)(x)\n",
    "\n",
    "x = tf.keras.layers.Conv3D(filters=256, kernel_size=3, activation=\"relu\")(x)\n",
    "x = tf.keras.layers.MaxPool3D(pool_size=2)(x)\n",
    "x = tf.keras.layers.BatchNormalization()(x)\n",
    "x = tf.keras.layers.Dropout(0.03)(x)\n",
    "\n",
    "x = tf.keras.layers.Conv3D(filters=512, kernel_size=3, activation=\"relu\")(x)\n",
    "x = tf.keras.layers.MaxPool3D(pool_size=2)(x)\n",
    "x = tf.keras.layers.BatchNormalization()(x)\n",
    "x = tf.keras.layers.Dropout(0.04)(x)\n",
    "\n",
    "x = tf.keras.layers.GlobalAveragePooling3D()(x)\n",
    "x =tf.keras.layers.Dense(units=1024, activation=\"relu\")(x)\n",
    "x =tf.keras.layers.Dropout(0.08)(x)\n",
    "\n",
    "outputs =tf.keras.layers.Dense(units=1, activation=\"sigmoid\")(x)\n",
    "\n",
    "# Define the model.\n",
    "model = tf.keras.Model(inputs, outputs, name=\"3dcnn\")\n",
    "# Compile model.\n",
    "#initial_learning_rate = 0.0001\n",
    "#lr_schedule =tf.keras.optimizers.schedules.ExponentialDecay(\n",
    "    #initial_learning_rate, decay_steps=100000, decay_rate=0.96, staircase=True\n",
    "     #)\n",
    "#model.compile(\n",
    "       #loss=\"binary_crossentropy\",\n",
    "      #optimizer=tf.keras.optimizers.Adam(learning_rate=lr_schedule),\n",
    "      #metrics=[\"acc\"],\n",
    "     #)\n",
    "\n",
    "\n",
    "#model.fit(\n",
    "    #x=x_train,y=y_train,\n",
    "    #validation_data=(x_val,y_val),\n",
    "    #epochs=epochs,\n",
    "    #shuffle=True,\n",
    "    #batch_size=batch_size,\n",
    "    #verbose=2,\n",
    "    #callbacks=[checkpoint_cb, early_stopping_cb],\n",
    "#)\n",
    "    "
   ]
  },
  {
   "cell_type": "markdown",
   "id": "e633caaf",
   "metadata": {
    "papermill": {
     "duration": 0.032985,
     "end_time": "2021-10-03T12:15:55.307064",
     "exception": false,
     "start_time": "2021-10-03T12:15:55.274079",
     "status": "completed"
    },
    "tags": []
   },
   "source": [
    "## Prediction"
   ]
  },
  {
   "cell_type": "code",
   "execution_count": 30,
   "id": "09dbe4f5",
   "metadata": {
    "execution": {
     "iopub.execute_input": "2021-10-03T12:15:55.395014Z",
     "iopub.status.busy": "2021-10-03T12:15:55.394169Z",
     "iopub.status.idle": "2021-10-03T12:15:55.982233Z",
     "shell.execute_reply": "2021-10-03T12:15:55.982716Z",
     "shell.execute_reply.started": "2021-10-03T12:03:02.919833Z"
    },
    "papermill": {
     "duration": 0.642101,
     "end_time": "2021-10-03T12:15:55.982899",
     "exception": false,
     "start_time": "2021-10-03T12:15:55.340798",
     "status": "completed"
    },
    "tags": []
   },
   "outputs": [],
   "source": [
    "model.load_weights(model_weights)"
   ]
  },
  {
   "cell_type": "code",
   "execution_count": 31,
   "id": "b5d83ed2",
   "metadata": {
    "execution": {
     "iopub.execute_input": "2021-10-03T12:15:56.057426Z",
     "iopub.status.busy": "2021-10-03T12:15:56.056870Z",
     "iopub.status.idle": "2021-10-03T12:18:13.058626Z",
     "shell.execute_reply": "2021-10-03T12:18:13.059021Z",
     "shell.execute_reply.started": "2021-10-03T12:12:10.268372Z"
    },
    "papermill": {
     "duration": 137.04075,
     "end_time": "2021-10-03T12:18:13.059184",
     "exception": false,
     "start_time": "2021-10-03T12:15:56.018434",
     "status": "completed"
    },
    "tags": []
   },
   "outputs": [
    {
     "name": "stderr",
     "output_type": "stream",
     "text": [
      "  0%|          | 0/87 [00:00<?, ?it/s]2021-10-03 12:15:57.561011: I tensorflow/compiler/mlir/mlir_graph_optimization_pass.cc:116] None of the MLIR optimization passes are enabled (registered 2)\n",
      "2021-10-03 12:15:57.572861: I tensorflow/core/platform/profile_utils/cpu_utils.cc:112] CPU Frequency: 2000179999 Hz\n",
      "2021-10-03 12:15:57.757811: I tensorflow/stream_executor/platform/default/dso_loader.cc:49] Successfully opened dynamic library libcublas.so.11\n",
      "2021-10-03 12:15:58.470303: I tensorflow/stream_executor/platform/default/dso_loader.cc:49] Successfully opened dynamic library libcublasLt.so.11\n",
      "2021-10-03 12:15:58.484038: I tensorflow/stream_executor/platform/default/dso_loader.cc:49] Successfully opened dynamic library libcudnn.so.8\n",
      "100%|██████████| 87/87 [02:16<00:00,  1.57s/it]\n"
     ]
    }
   ],
   "source": [
    "dataset_dir='test'\n",
    "test_prediction=[]\n",
    "for file_id in tqdm(sample_df['BraTS21ID']):\n",
    "    test_prediction.append(model.predict(np.expand_dims(read_dicom_img(dataset_dir, file_id)[0],axis=0))[0][0])\n",
    "    \n",
    "\n",
    "#test=np.array([read_dicom_img(dataset_dir, file_id)[0] for file_id in tqdm(sample_df['BraTS21ID'])])\n",
    "#img=tf.expand_dims(img,axis=0)\n",
    "\n"
   ]
  },
  {
   "cell_type": "code",
   "execution_count": 32,
   "id": "61e17ac0",
   "metadata": {
    "execution": {
     "iopub.execute_input": "2021-10-03T12:18:13.177272Z",
     "iopub.status.busy": "2021-10-03T12:18:13.176774Z",
     "iopub.status.idle": "2021-10-03T12:18:13.179943Z",
     "shell.execute_reply": "2021-10-03T12:18:13.180774Z",
     "shell.execute_reply.started": "2021-10-03T12:14:29.964729Z"
    },
    "papermill": {
     "duration": 0.064033,
     "end_time": "2021-10-03T12:18:13.180908",
     "exception": false,
     "start_time": "2021-10-03T12:18:13.116875",
     "status": "completed"
    },
    "tags": []
   },
   "outputs": [],
   "source": [
    "#prediction=[]\n",
    "#for img in test:\n",
    "    #pred=model.predict(test)\n",
    "    #prediction.append(pred)\n",
    "    \n"
   ]
  },
  {
   "cell_type": "code",
   "execution_count": 33,
   "id": "c946bd46",
   "metadata": {
    "execution": {
     "iopub.execute_input": "2021-10-03T12:18:13.298332Z",
     "iopub.status.busy": "2021-10-03T12:18:13.296818Z",
     "iopub.status.idle": "2021-10-03T12:18:13.298955Z",
     "shell.execute_reply": "2021-10-03T12:18:13.299347Z",
     "shell.execute_reply.started": "2021-10-03T12:14:29.974939Z"
    },
    "papermill": {
     "duration": 0.062051,
     "end_time": "2021-10-03T12:18:13.299497",
     "exception": false,
     "start_time": "2021-10-03T12:18:13.237446",
     "status": "completed"
    },
    "tags": []
   },
   "outputs": [],
   "source": [
    "#from sklearn import metrics\n",
    "#val_prediction=model.predict(x_val)\n",
    "#y_val=np.array(y_val)\n",
    "#fpr,tpr,threshold=metric.roc_curve(y_val,val_prediction)\n",
    "#metrics.auc(fpr,tpr)"
   ]
  },
  {
   "cell_type": "code",
   "execution_count": 34,
   "id": "9e913cae",
   "metadata": {
    "execution": {
     "iopub.execute_input": "2021-10-03T12:18:13.424421Z",
     "iopub.status.busy": "2021-10-03T12:18:13.423807Z",
     "iopub.status.idle": "2021-10-03T12:18:13.426884Z",
     "shell.execute_reply": "2021-10-03T12:18:13.427263Z",
     "shell.execute_reply.started": "2021-10-03T12:14:49.980813Z"
    },
    "papermill": {
     "duration": 0.071129,
     "end_time": "2021-10-03T12:18:13.427390",
     "exception": false,
     "start_time": "2021-10-03T12:18:13.356261",
     "status": "completed"
    },
    "tags": []
   },
   "outputs": [
    {
     "data": {
      "text/html": [
       "<div>\n",
       "<style scoped>\n",
       "    .dataframe tbody tr th:only-of-type {\n",
       "        vertical-align: middle;\n",
       "    }\n",
       "\n",
       "    .dataframe tbody tr th {\n",
       "        vertical-align: top;\n",
       "    }\n",
       "\n",
       "    .dataframe thead th {\n",
       "        text-align: right;\n",
       "    }\n",
       "</style>\n",
       "<table border=\"1\" class=\"dataframe\">\n",
       "  <thead>\n",
       "    <tr style=\"text-align: right;\">\n",
       "      <th></th>\n",
       "      <th>BraTS21ID</th>\n",
       "      <th>MGMT_value</th>\n",
       "    </tr>\n",
       "  </thead>\n",
       "  <tbody>\n",
       "    <tr>\n",
       "      <th>0</th>\n",
       "      <td>1</td>\n",
       "      <td>0.827251</td>\n",
       "    </tr>\n",
       "    <tr>\n",
       "      <th>1</th>\n",
       "      <td>13</td>\n",
       "      <td>0.777301</td>\n",
       "    </tr>\n",
       "    <tr>\n",
       "      <th>2</th>\n",
       "      <td>15</td>\n",
       "      <td>0.720657</td>\n",
       "    </tr>\n",
       "    <tr>\n",
       "      <th>3</th>\n",
       "      <td>27</td>\n",
       "      <td>0.701963</td>\n",
       "    </tr>\n",
       "    <tr>\n",
       "      <th>4</th>\n",
       "      <td>37</td>\n",
       "      <td>0.758207</td>\n",
       "    </tr>\n",
       "    <tr>\n",
       "      <th>5</th>\n",
       "      <td>47</td>\n",
       "      <td>0.765129</td>\n",
       "    </tr>\n",
       "    <tr>\n",
       "      <th>6</th>\n",
       "      <td>79</td>\n",
       "      <td>0.774154</td>\n",
       "    </tr>\n",
       "    <tr>\n",
       "      <th>7</th>\n",
       "      <td>80</td>\n",
       "      <td>0.734101</td>\n",
       "    </tr>\n",
       "    <tr>\n",
       "      <th>8</th>\n",
       "      <td>82</td>\n",
       "      <td>0.813746</td>\n",
       "    </tr>\n",
       "    <tr>\n",
       "      <th>9</th>\n",
       "      <td>91</td>\n",
       "      <td>0.776008</td>\n",
       "    </tr>\n",
       "    <tr>\n",
       "      <th>10</th>\n",
       "      <td>114</td>\n",
       "      <td>0.779054</td>\n",
       "    </tr>\n",
       "    <tr>\n",
       "      <th>11</th>\n",
       "      <td>119</td>\n",
       "      <td>0.696276</td>\n",
       "    </tr>\n",
       "    <tr>\n",
       "      <th>12</th>\n",
       "      <td>125</td>\n",
       "      <td>0.753639</td>\n",
       "    </tr>\n",
       "    <tr>\n",
       "      <th>13</th>\n",
       "      <td>129</td>\n",
       "      <td>0.784792</td>\n",
       "    </tr>\n",
       "    <tr>\n",
       "      <th>14</th>\n",
       "      <td>135</td>\n",
       "      <td>0.793678</td>\n",
       "    </tr>\n",
       "    <tr>\n",
       "      <th>15</th>\n",
       "      <td>145</td>\n",
       "      <td>0.748020</td>\n",
       "    </tr>\n",
       "    <tr>\n",
       "      <th>16</th>\n",
       "      <td>153</td>\n",
       "      <td>0.790797</td>\n",
       "    </tr>\n",
       "    <tr>\n",
       "      <th>17</th>\n",
       "      <td>161</td>\n",
       "      <td>0.830917</td>\n",
       "    </tr>\n",
       "    <tr>\n",
       "      <th>18</th>\n",
       "      <td>163</td>\n",
       "      <td>0.782858</td>\n",
       "    </tr>\n",
       "    <tr>\n",
       "      <th>19</th>\n",
       "      <td>174</td>\n",
       "      <td>0.799002</td>\n",
       "    </tr>\n",
       "  </tbody>\n",
       "</table>\n",
       "</div>"
      ],
      "text/plain": [
       "    BraTS21ID  MGMT_value\n",
       "0           1    0.827251\n",
       "1          13    0.777301\n",
       "2          15    0.720657\n",
       "3          27    0.701963\n",
       "4          37    0.758207\n",
       "5          47    0.765129\n",
       "6          79    0.774154\n",
       "7          80    0.734101\n",
       "8          82    0.813746\n",
       "9          91    0.776008\n",
       "10        114    0.779054\n",
       "11        119    0.696276\n",
       "12        125    0.753639\n",
       "13        129    0.784792\n",
       "14        135    0.793678\n",
       "15        145    0.748020\n",
       "16        153    0.790797\n",
       "17        161    0.830917\n",
       "18        163    0.782858\n",
       "19        174    0.799002"
      ]
     },
     "execution_count": 34,
     "metadata": {},
     "output_type": "execute_result"
    }
   ],
   "source": [
    "# modify sample df\n",
    "sample_df['MGMT_value']=test_prediction\n",
    "sample_df.head(20)"
   ]
  },
  {
   "cell_type": "code",
   "execution_count": 35,
   "id": "c5de259a",
   "metadata": {
    "execution": {
     "iopub.execute_input": "2021-10-03T12:18:13.543781Z",
     "iopub.status.busy": "2021-10-03T12:18:13.543260Z",
     "iopub.status.idle": "2021-10-03T12:18:13.549353Z",
     "shell.execute_reply": "2021-10-03T12:18:13.548906Z",
     "shell.execute_reply.started": "2021-10-03T12:15:04.381493Z"
    },
    "papermill": {
     "duration": 0.065518,
     "end_time": "2021-10-03T12:18:13.549482",
     "exception": false,
     "start_time": "2021-10-03T12:18:13.483964",
     "status": "completed"
    },
    "tags": []
   },
   "outputs": [],
   "source": [
    "sample_df.to_csv('submission.csv',index=False)"
   ]
  },
  {
   "cell_type": "code",
   "execution_count": null,
   "id": "4886be3d",
   "metadata": {
    "papermill": {
     "duration": 0.057123,
     "end_time": "2021-10-03T12:18:13.663977",
     "exception": false,
     "start_time": "2021-10-03T12:18:13.606854",
     "status": "completed"
    },
    "tags": []
   },
   "outputs": [],
   "source": []
  },
  {
   "cell_type": "code",
   "execution_count": null,
   "id": "9e166e68",
   "metadata": {
    "papermill": {
     "duration": 0.057028,
     "end_time": "2021-10-03T12:18:13.777300",
     "exception": false,
     "start_time": "2021-10-03T12:18:13.720272",
     "status": "completed"
    },
    "tags": []
   },
   "outputs": [],
   "source": []
  },
  {
   "cell_type": "code",
   "execution_count": null,
   "id": "1271524c",
   "metadata": {
    "papermill": {
     "duration": 0.056234,
     "end_time": "2021-10-03T12:18:13.890864",
     "exception": false,
     "start_time": "2021-10-03T12:18:13.834630",
     "status": "completed"
    },
    "tags": []
   },
   "outputs": [],
   "source": []
  },
  {
   "cell_type": "code",
   "execution_count": null,
   "id": "be053c59",
   "metadata": {
    "papermill": {
     "duration": 0.057299,
     "end_time": "2021-10-03T12:18:14.004674",
     "exception": false,
     "start_time": "2021-10-03T12:18:13.947375",
     "status": "completed"
    },
    "tags": []
   },
   "outputs": [],
   "source": []
  }
 ],
 "metadata": {
  "kernelspec": {
   "display_name": "Python 3",
   "language": "python",
   "name": "python3"
  },
  "language_info": {
   "codemirror_mode": {
    "name": "ipython",
    "version": 3
   },
   "file_extension": ".py",
   "mimetype": "text/x-python",
   "name": "python",
   "nbconvert_exporter": "python",
   "pygments_lexer": "ipython3",
   "version": "3.7.10"
  },
  "papermill": {
   "default_parameters": {},
   "duration": 160.726591,
   "end_time": "2021-10-03T12:18:17.375770",
   "environment_variables": {},
   "exception": null,
   "input_path": "__notebook__.ipynb",
   "output_path": "__notebook__.ipynb",
   "parameters": {},
   "start_time": "2021-10-03T12:15:36.649179",
   "version": "2.3.3"
  }
 },
 "nbformat": 4,
 "nbformat_minor": 5
}
